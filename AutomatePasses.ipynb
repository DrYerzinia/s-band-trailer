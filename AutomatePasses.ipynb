{
 "cells": [
  {
   "cell_type": "code",
   "execution_count": 16,
   "id": "973f395c-74aa-41cc-8bcd-3d9a5e328c0c",
   "metadata": {},
   "outputs": [],
   "source": [
    "import ephem\n",
    "\n",
    "import adi\n",
    "\n",
    "from multiprocess import Process\n",
    "\n",
    "import numpy as np\n",
    "\n",
    "import time\n",
    "\n",
    "from ipywidgets import Label\n",
    "\n",
    "from datetime import datetime, timedelta\n",
    "\n",
    "import odrive\n",
    "from odrive.enums import *"
   ]
  },
  {
   "cell_type": "markdown",
   "id": "a3b2df9f-7fd5-4cc4-bd72-58d84158ee47",
   "metadata": {},
   "source": [
    "# Setup Dish Control"
   ]
  },
  {
   "cell_type": "code",
   "execution_count": null,
   "id": "a1b48b25-fdb1-43ca-ad07-fbb2ed19d175",
   "metadata": {},
   "outputs": [],
   "source": [
    "odrv0 = odrive.find_any()"
   ]
  },
  {
   "cell_type": "code",
   "execution_count": null,
   "id": "ee19503b-d516-43e6-beba-69d88fc598bf",
   "metadata": {},
   "outputs": [],
   "source": [
    "print(str(odrv0.vbus_voltage))"
   ]
  },
  {
   "cell_type": "code",
   "execution_count": null,
   "id": "1e93a2b3-a378-4e80-a6c3-ec8f346f8ecc",
   "metadata": {},
   "outputs": [],
   "source": [
    "# Find the index of the Encoder for precice start up positioning.\n",
    "# This presumes the dish is parked just past the index pulse as the homed revolution\n",
    "odrv0.axis0.requested_state = AXIS_STATE_ENCODER_INDEX_SEARCH\n",
    "odrv0.axis1.requested_state = AXIS_STATE_ENCODER_INDEX_SEARCH"
   ]
  },
  {
   "cell_type": "code",
   "execution_count": null,
   "id": "f3247fb9-b044-4380-9272-568ddfc0959c",
   "metadata": {},
   "outputs": [],
   "source": [
    "# Assumes we are sending commands at ~10Hz so set postion filter bandwidht to 1/2 that\n",
    "odrv0.axis0.controller.config.input_filter_bandwidth = 5\n",
    "odrv0.axis1.controller.config.input_filter_bandwidth = 5"
   ]
  },
  {
   "cell_type": "code",
   "execution_count": null,
   "id": "a53442b4-ada4-4a3a-8efc-f9ede71bee79",
   "metadata": {},
   "outputs": [],
   "source": [
    "odrv0.clear_errors()\n",
    "odrv0.axis0.requested_state = AXIS_STATE_CLOSED_LOOP_CONTROL\n",
    "odrv0.axis0.controller.config.input_mode = INPUT_MODE_POS_FILTER"
   ]
  },
  {
   "cell_type": "code",
   "execution_count": null,
   "id": "c3a22b5c-2e92-4197-89b4-d5d316468adc",
   "metadata": {},
   "outputs": [],
   "source": [
    "# Axis 1 is not doing the derbin\n",
    "odrv0.clear_errors()\n",
    "odrv0.axis1.requested_state = AXIS_STATE_FULL_CALIBRATION_SEQUENCE"
   ]
  },
  {
   "cell_type": "code",
   "execution_count": null,
   "id": "753d8138-5f00-4f85-9da0-ec759c1e8d64",
   "metadata": {},
   "outputs": [],
   "source": [
    "odrv0.clear_errors()\n",
    "odrv0.axis1.requested_state = AXIS_STATE_CLOSED_LOOP_CONTROL\n",
    "odrv0.axis1.controller.config.input_mode = INPUT_MODE_POS_FILTER"
   ]
  },
  {
   "cell_type": "markdown",
   "id": "47674652-65c0-494b-a3bd-1ab995707daa",
   "metadata": {},
   "source": [
    "## Test Movement\n",
    "Run the cells below to check that each dish axis moves ~5 degrees and back"
   ]
  },
  {
   "cell_type": "code",
   "execution_count": null,
   "id": "318a9043-1e4c-4e44-9d8b-89cf7dd38b46",
   "metadata": {},
   "outputs": [],
   "source": [
    "odrv0.axis0.controller.input_pos = 5"
   ]
  },
  {
   "cell_type": "code",
   "execution_count": null,
   "id": "a78c5b57-63e5-47b5-9a7b-50326e2684df",
   "metadata": {},
   "outputs": [],
   "source": [
    "odrv0.axis0.encoder.pos_estimate"
   ]
  },
  {
   "cell_type": "code",
   "execution_count": null,
   "id": "f7e01027-f6a9-452c-8c47-d66d565adace",
   "metadata": {},
   "outputs": [],
   "source": [
    "odrv0.axis0.controller.input_pos = 0"
   ]
  },
  {
   "cell_type": "code",
   "execution_count": null,
   "id": "d2b58475-71ea-4773-bbae-3bf42ba80a4d",
   "metadata": {},
   "outputs": [],
   "source": [
    "odrv0.axis0.encoder.pos_estimate"
   ]
  },
  {
   "cell_type": "code",
   "execution_count": null,
   "id": "da604fa9-8e5c-473b-ac44-c5fc324559a1",
   "metadata": {},
   "outputs": [],
   "source": [
    "odrv0.axis1.controller.input_pos = 5"
   ]
  },
  {
   "cell_type": "code",
   "execution_count": null,
   "id": "e7d129d1-544c-49ee-b207-f103ba7317fe",
   "metadata": {},
   "outputs": [],
   "source": [
    "odrv0.axis1.encoder.pos_estimate"
   ]
  },
  {
   "cell_type": "code",
   "execution_count": null,
   "id": "a89de9fa-c732-45b2-98fc-382147125585",
   "metadata": {},
   "outputs": [],
   "source": [
    "odrv0.axis1.controller.input_pos = 0"
   ]
  },
  {
   "cell_type": "code",
   "execution_count": null,
   "id": "bc55ee31-6415-46b7-a676-b881429c452a",
   "metadata": {},
   "outputs": [],
   "source": [
    "odrv0.axis1.encoder.pos_estimate"
   ]
  },
  {
   "cell_type": "markdown",
   "id": "9c9fca07-d21d-49ad-a108-36fff906c061",
   "metadata": {},
   "source": [
    "# Calculate Passes"
   ]
  },
  {
   "cell_type": "code",
   "execution_count": 17,
   "id": "86cf4537-7a90-4b52-a56e-f4c39ea019af",
   "metadata": {},
   "outputs": [],
   "source": [
    "dish = ephem.Observer()\n",
    "dish.lon = '-105.251825'\n",
    "dish.lat = '40.010886'\n",
    "dish.elevation = 1605 # Meters"
   ]
  },
  {
   "cell_type": "code",
   "execution_count": 27,
   "id": "181efe72-5bef-4cda-8867-c2afc10d1f3e",
   "metadata": {},
   "outputs": [],
   "source": [
    "sats = [\n",
    "    {\n",
    "        'sat': ephem.readtle('CIRBE',\n",
    "            '1 56188U 23054L   23299.28287952  .00028502  00000-0  10188-2 0  9997',\n",
    "            '2 56188  97.3877 192.7599 0005978 295.1803  64.8817 15.28764848 30167'\n",
    "        ),\n",
    "        'freq': 2.402e9\n",
    "    },\n",
    "    {\n",
    "        'sat': ephem.readtle('CUTE',\n",
    "            '1 49263U 21088D   23298.90579824  .00010951  00000-0  64582-3 0  9995',\n",
    "            '2 49263  97.5314   2.5893 0017260 169.6161 190.5429 15.11611011114013'\n",
    "        ),\n",
    "        'freq': 2.402e9\n",
    "    },\n",
    "    {\n",
    "        'sat': ephem.readtle('CITM',\n",
    "            '1 52950U 22074G   23290.56415723  .00215632  00000-0  21039-2 0  9991',\n",
    "            '2 52950  44.9994  27.0917 0015040 333.8983  26.1155 15.64672021 72604'\n",
    "        ),\n",
    "        'freq': 2.402e9\n",
    "    }\n",
    "]"
   ]
  },
  {
   "cell_type": "code",
   "execution_count": 28,
   "id": "63eb25c9-af4b-46a9-ae3f-fa93cbba161c",
   "metadata": {},
   "outputs": [],
   "source": [
    "start_time = datetime.utcnow()\n",
    "run_until = ephem.Date(start_time + timedelta(hours=12))\n",
    "start_time = ephem.Date(start_time)\n",
    "#start_time = ephem.Date(datetime(2023, 10, 26, 17, 0, 0, 0))\n",
    "#run_until = ephem.Date(datetime(2023, 10, 26, 19, 0, 0, 0))"
   ]
  },
  {
   "cell_type": "code",
   "execution_count": 29,
   "id": "610d76f2-1413-40f6-9004-3b7369730fca",
   "metadata": {},
   "outputs": [],
   "source": [
    "passes = []\n",
    "\n",
    "min_pass_time = 5\n",
    "\n",
    "for sat_data in sats:\n",
    "\n",
    "    sat = sat_data['sat']\n",
    "\n",
    "    set = ephem.Date(start_time)\n",
    "    while True:\n",
    "\n",
    "        dish.date = set\n",
    "        nxt_ps = dish.next_pass(sat)\n",
    "        rise = nxt_ps[0]\n",
    "        rise_az = nxt_ps[1]\n",
    "        set = nxt_ps[4]\n",
    "        set_az = nxt_ps[5]\n",
    "\n",
    "        if set > run_until:\n",
    "            break\n",
    "\n",
    "        pass_time_min = (set-rise)*24*60\n",
    "\n",
    "        if pass_time_min < min_pass_time:\n",
    "            continue\n",
    "        \n",
    "        passes.append({\n",
    "            'sat': sat_data,\n",
    "            'rise_time': rise,\n",
    "            'rise_az': rise_az,\n",
    "            'set_time': set,\n",
    "            'set_az': set_az\n",
    "        })"
   ]
  },
  {
   "cell_type": "code",
   "execution_count": 30,
   "id": "b0f3d2d7-f39d-49d0-be35-343ff42d47b6",
   "metadata": {},
   "outputs": [],
   "source": [
    "passes.sort(key=lambda x : x['rise_time'])"
   ]
  },
  {
   "cell_type": "code",
   "execution_count": 31,
   "id": "d8527e0c-1277-40d7-b4cf-d4021d227a8a",
   "metadata": {},
   "outputs": [
    {
     "name": "stdout",
     "output_type": "stream",
     "text": [
      "CUTE 2023/10/26 18:54:51\n",
      "CUTE 2023/10/27 02:30:24\n",
      "CUTE 2023/10/27 04:00:26\n",
      "CITM 2023/10/27 04:43:04\n",
      "CIRBE 2023/10/27 05:18:10\n",
      "CUTE 2023/10/27 05:35:56\n",
      "CITM 2023/10/27 06:17:55\n"
     ]
    }
   ],
   "source": [
    "for xrs in passes:\n",
    "    print(xrs['sat']['sat'].name, xrs['rise_time'])"
   ]
  },
  {
   "cell_type": "markdown",
   "id": "cc394c7b-90c5-4462-8ca4-383dc7538dce",
   "metadata": {},
   "source": [
    "# Run System"
   ]
  },
  {
   "cell_type": "code",
   "execution_count": null,
   "id": "3c955ef8-ff49-4c0a-b003-c9ca0ec316ee",
   "metadata": {},
   "outputs": [],
   "source": [
    "az_offset = np.radians(15.4)"
   ]
  },
  {
   "cell_type": "code",
   "execution_count": 5,
   "id": "5eba7777-0320-4f20-84ed-a48d4a1150f5",
   "metadata": {},
   "outputs": [],
   "source": [
    "def to_file_name(date):\n",
    "    return str(date).replace('/', '').replace(':', '').replace(' ', '_')"
   ]
  },
  {
   "cell_type": "code",
   "execution_count": 9,
   "id": "61035c14-6f52-4ac1-88da-b4a8ee66e210",
   "metadata": {},
   "outputs": [],
   "source": [
    "def get_current_time():\n",
    "    return datetime.utcnow()\n",
    "\n",
    "def set_dish_pos(a0_tgt, a1_tgt):\n",
    "    odrv0.axis0.controller.input_pos = a0_tgt\n",
    "    odrv0.axis1.controller.input_pos = a1_tgt\n",
    "\n",
    "def get_dish_pos():\n",
    "    return odrv0.axis0.encoder.pos_estimate, odrv0.axis1.encoder.pos_estimate\n",
    "\n",
    "def setup_sdr(center_freq):\n",
    "    # We are tuning with signal offset tuned 500KHz in the USB\n",
    "\n",
    "    sample_rate = 2e6 # Hz\n",
    "    num_samps = 1000000 # number of samples returned per call to rx()\n",
    "    \n",
    "    sdr = adi.Pluto('ip:192.168.2.1')\n",
    "    sdr.gain_control_mode_chan0 = 'manual'\n",
    "    sdr.rx_hardwaregain_chan0 = 70.0 # dB\n",
    "    sdr.rx_lo = int(center_freq - 500e3)\n",
    "    sdr.sample_rate = int(sample_rate)\n",
    "    sdr.rx_rf_bandwidth = int(sample_rate) # filter width, just set it to the same as sample rate for now\n",
    "    sdr.rx_buffer_size = num_samps\n",
    "\n",
    "def record(filename, stop_time):\n",
    "    import adi\n",
    "    from datetime import datetime, timedelta\n",
    "    sdr = adi.Pluto('ip:192.168.2.1')\n",
    "    with open(filename, 'wb') as f:\n",
    "        while datetime.now() < stop_time:\n",
    "            data = sdr.rx().astype(np.csingle)\n",
    "            f.write(data.tobytes())\n",
    "            f.flush()\n",
    "\n",
    "def record_sdr(filename, stop_time):\n",
    "    p = Process(target=record, args=(filename, stop_time))\n",
    "    p.start()\n",
    "    return p"
   ]
  },
  {
   "cell_type": "markdown",
   "id": "67cfff07-2a95-4d5b-a39d-1c4e3ab9ba27",
   "metadata": {
    "jp-MarkdownHeadingCollapsed": true
   },
   "source": [
    "## Test SDR (DON'T RUN)"
   ]
  },
  {
   "cell_type": "code",
   "execution_count": null,
   "id": "59b591e1-ab97-4f45-9379-3af9486d2b7d",
   "metadata": {},
   "outputs": [],
   "source": [
    "setup_sdr(2.402e9)"
   ]
  },
  {
   "cell_type": "code",
   "execution_count": null,
   "id": "554cad40-ecc8-4fe0-86f8-90466102f221",
   "metadata": {},
   "outputs": [],
   "source": [
    "record('test.iq', datetime.now() + timedelta(seconds=10))"
   ]
  },
  {
   "cell_type": "markdown",
   "id": "9314a7f4-45a1-4836-b6f1-ce79e248c29d",
   "metadata": {
    "jp-MarkdownHeadingCollapsed": true
   },
   "source": [
    "## Stubs (DON'T RUN)"
   ]
  },
  {
   "cell_type": "code",
   "execution_count": null,
   "id": "067eabdd-44e5-49f8-8bb5-752a9dea2596",
   "metadata": {},
   "outputs": [],
   "source": [
    "offset = datetime.utcnow() - datetime(2023, 10, 18, 14, 26, 11, 0) - timedelta(seconds=-10)"
   ]
  },
  {
   "cell_type": "code",
   "execution_count": null,
   "id": "aeca4675-3fd2-452a-8a12-a4ac158983b6",
   "metadata": {},
   "outputs": [],
   "source": [
    "def get_current_time():\n",
    "    return datetime.utcnow() - offset\n",
    "\n",
    "def set_dish_pos(a0_tgt, a1_tgt):\n",
    "    pass\n",
    "\n",
    "def get_dish_pos():\n",
    "    return 0, 0\n",
    "\n",
    "def setup_sdr(center_freq):\n",
    "    print(center_freq)\n",
    "\n",
    "def record_sdr(filename, stop_time):\n",
    "    pass"
   ]
  },
  {
   "cell_type": "markdown",
   "id": "47e76833-e7d8-4456-b8ca-684de8e7b5e0",
   "metadata": {},
   "source": [
    "## Start system"
   ]
  },
  {
   "cell_type": "code",
   "execution_count": null,
   "id": "f6f57f84-fe48-4bf0-ad66-4564996f7da9",
   "metadata": {},
   "outputs": [],
   "source": [
    "el_label = Label()\n",
    "display(el_label)"
   ]
  },
  {
   "cell_type": "code",
   "execution_count": 3,
   "id": "3c61e405-be5e-462e-b4db-25bbd8e3a4a6",
   "metadata": {},
   "outputs": [],
   "source": [
    "from types import SimpleNamespace\n",
    "xrs = {\n",
    "    'rise_time': ephem.Date(datetime.now()),\n",
    "    'set_time': ephem.Date(datetime.now())\n",
    "}\n",
    "sat = SimpleNamespace()\n",
    "sat.name = 'satname'\n",
    "sat_data = {\n",
    "    'freq': 2.4e9\n",
    "}"
   ]
  },
  {
   "cell_type": "code",
   "execution_count": 10,
   "id": "ba602f99-3f4a-46a5-ab02-ece05af7efee",
   "metadata": {},
   "outputs": [],
   "source": [
    "filename = f\"{sat.name}_{to_file_name(xrs['rise_time'])}.iq\"\n",
    "setup_sdr(sat_data['freq'])\n",
    "p = record_sdr(filename, ephem.localtime(xrs['set_time']))\n",
    "p.join()"
   ]
  },
  {
   "cell_type": "code",
   "execution_count": null,
   "id": "53316ca2-8776-4a05-89af-e1813f9a42cb",
   "metadata": {},
   "outputs": [],
   "source": []
  },
  {
   "cell_type": "code",
   "execution_count": null,
   "id": "1ad64b4b-1d88-4e2c-ad79-39de2b2441f8",
   "metadata": {},
   "outputs": [],
   "source": [
    "for xrs in passes:\n",
    "\n",
    "    sat_data = xrs['sat']\n",
    "    sat = sat_data['sat']\n",
    "\n",
    "    # Wait for pass start\n",
    "    while ephem.Date(get_current_time()) < xrs['rise_time']:\n",
    "        el_label.value = f\"Waiting... {xrs['rise_time']}\"\n",
    "        time.sleep(1)\n",
    "\n",
    "    pass_start_elevation = 0\n",
    "    \n",
    "    dish.date = get_current_time()\n",
    "    sat.compute(dish)\n",
    "    \n",
    "    el_label.value = f'{np.degrees(sat.alt):3.2f} EL {np.degrees(sat.az):3.2f} AZ F'\n",
    "\n",
    "    # Wait for satellite to come above horizon\n",
    "    while sat.alt < np.radians(pass_start_elevation):\n",
    "    \n",
    "        time.sleep(1)\n",
    "        dish.date = get_current_time()\n",
    "        sat.compute(dish)\n",
    "    \n",
    "        el_label.value = f'{np.degrees(sat.alt):3.2f} EL {np.degrees(sat.az):3.2f} AZ W'\n",
    "\n",
    "    times = []\n",
    "    az_tgt = []\n",
    "    el_tgt = []\n",
    "    az_meas = []\n",
    "    el_meas = []\n",
    "\n",
    "    # Start Recording\n",
    "    filename = f\"{sat.name}_{to_file_name(xrs['rise_time'])}.iq\"\n",
    "    setup_sdr(sat_data['freq'])\n",
    "    p = record_sdr(filename, ephem.localtime(xrs['set_time']))\n",
    "\n",
    "    # Track satellite and record data\n",
    "    while sat.alt >= np.radians(pass_start_elevation):\n",
    "    \n",
    "        current_time = get_current_time()\n",
    "        dish.date = current_time\n",
    "        sat.compute(dish)\n",
    "    \n",
    "        sat_az = sat.az + az_offset\n",
    "        sat_el = sat.alt\n",
    "    \n",
    "        el_label.value = f'{np.degrees(sat_el):3.2f} EL {np.degrees(sat_az):3.2f} AZ R'\n",
    "    \n",
    "        # Handle crossing 360\n",
    "        if len(az_tgt) == 0:\n",
    "            az_last = np.degrees(sat_az)\n",
    "        else:\n",
    "            az_last = az_tgt[-1]\n",
    "        az_next = np.degrees(sat_az)\n",
    "        az_diff = az_next - az_last\n",
    "        az_diff = (((az_diff + 180) % 360 ) - 180)\n",
    "    \n",
    "        az_tgt.append(az_last + az_diff)\n",
    "        el_tgt.append(np.degrees(sat_el))\n",
    "\n",
    "        a0_tgt = (az_tgt[-1] - 180) * (3199 / 3600)\n",
    "        a1_tgt = (90 - el_tgt[-1]) * (3199 / 3600)\n",
    "\n",
    "        set_dish_pos(a0_tgt, a1_tgt)\n",
    "\n",
    "        a0_pos, a1_pos = get_dish_pos()\n",
    "    \n",
    "        az_meas.append( (a0_pos /  (3199 / 3600) ) + 180 )\n",
    "        el_meas.append( 90 - (a1_pos / (3199 / 3600) ) )\n",
    "        \n",
    "        times.append(current_time)\n",
    "\n",
    "    p.join()"
   ]
  },
  {
   "cell_type": "code",
   "execution_count": null,
   "id": "5414fe6c-6640-4edb-87d1-181e6a363cb4",
   "metadata": {},
   "outputs": [],
   "source": [
    "odrv0.axis0.controller.input_pos = 0\n",
    "odrv0.axis1.controller.input_pos = 0"
   ]
  },
  {
   "cell_type": "code",
   "execution_count": null,
   "id": "020db0f6-db59-4736-a90c-0c2eb3626eb0",
   "metadata": {},
   "outputs": [],
   "source": []
  }
 ],
 "metadata": {
  "kernelspec": {
   "display_name": "Python 3 (ipykernel)",
   "language": "python",
   "name": "python3"
  },
  "language_info": {
   "codemirror_mode": {
    "name": "ipython",
    "version": 3
   },
   "file_extension": ".py",
   "mimetype": "text/x-python",
   "name": "python",
   "nbconvert_exporter": "python",
   "pygments_lexer": "ipython3",
   "version": "3.10.11"
  }
 },
 "nbformat": 4,
 "nbformat_minor": 5
}
