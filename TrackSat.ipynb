{
 "cells": [
  {
   "cell_type": "code",
   "execution_count": 1,
   "id": "0a33f137-f080-4857-a89c-292da4a29d45",
   "metadata": {},
   "outputs": [],
   "source": [
    "from ipywidgets import Label\n",
    "import ephem\n",
    "\n",
    "from datetime import datetime, timedelta\n",
    "\n",
    "import time\n",
    "\n",
    "import numpy as np\n",
    "\n",
    "import odrive\n",
    "from odrive.enums import *\n",
    "\n",
    "import matplotlib.pyplot as plt\n",
    "\n",
    "import adi"
   ]
  },
  {
   "cell_type": "markdown",
   "id": "ca8c403a-eb78-4145-a255-fc8b5b7d5a00",
   "metadata": {},
   "source": [
    "# Setup Dish Control"
   ]
  },
  {
   "cell_type": "code",
   "execution_count": 2,
   "id": "c39643df-6c5b-410f-bfa0-3cb63df22606",
   "metadata": {},
   "outputs": [],
   "source": [
    "odrv0 = odrive.find_any()"
   ]
  },
  {
   "cell_type": "code",
   "execution_count": 3,
   "id": "18cf3529-ef78-4120-896c-3ba1392c695e",
   "metadata": {},
   "outputs": [
    {
     "name": "stdout",
     "output_type": "stream",
     "text": [
      "24.176366806030273\n"
     ]
    }
   ],
   "source": [
    "print(str(odrv0.vbus_voltage))"
   ]
  },
  {
   "cell_type": "code",
   "execution_count": 4,
   "id": "3adf0845-a762-4c45-9bc0-6c2a85ed18b6",
   "metadata": {},
   "outputs": [],
   "source": [
    "# Find the index of the Encoder for precice start up positioning.\n",
    "# This presumes the dish is parked just past the index pulse as the homed revolution\n",
    "odrv0.axis0.requested_state = AXIS_STATE_ENCODER_INDEX_SEARCH\n",
    "odrv0.axis1.requested_state = AXIS_STATE_ENCODER_INDEX_SEARCH"
   ]
  },
  {
   "cell_type": "code",
   "execution_count": 5,
   "id": "96e2a12e-955a-464a-87f2-cfebc2464a81",
   "metadata": {},
   "outputs": [],
   "source": [
    "# Assumes we are sending commands at ~10Hz so set postion filter bandwidht to 1/2 that\n",
    "odrv0.axis0.controller.config.input_filter_bandwidth = 5\n",
    "odrv0.axis1.controller.config.input_filter_bandwidth = 5"
   ]
  },
  {
   "cell_type": "code",
   "execution_count": 6,
   "id": "48d7afea-40b4-47d0-afad-2c9c07991a0f",
   "metadata": {},
   "outputs": [],
   "source": [
    "odrv0.clear_errors()\n",
    "odrv0.axis0.requested_state = AXIS_STATE_CLOSED_LOOP_CONTROL\n",
    "odrv0.axis0.controller.config.input_mode = INPUT_MODE_POS_FILTER"
   ]
  },
  {
   "cell_type": "code",
   "execution_count": null,
   "id": "66adec0e-76be-42f1-af56-b761807b9057",
   "metadata": {},
   "outputs": [],
   "source": [
    "# Axis 1 is not doing the derbin\n",
    "odrv0.clear_errors()\n",
    "odrv0.axis1.requested_state = AXIS_STATE_FULL_CALIBRATION_SEQUENCE"
   ]
  },
  {
   "cell_type": "code",
   "execution_count": 14,
   "id": "e45a049b-9a31-4a0d-936b-7a14ba0a0f09",
   "metadata": {},
   "outputs": [],
   "source": [
    "odrv0.clear_errors()\n",
    "odrv0.axis1.requested_state = AXIS_STATE_CLOSED_LOOP_CONTROL\n",
    "odrv0.axis1.controller.config.input_mode = INPUT_MODE_POS_FILTER"
   ]
  },
  {
   "cell_type": "markdown",
   "id": "e6be38b6-b6bd-4e6c-aabe-7f4489d20fd6",
   "metadata": {},
   "source": [
    "## Test Movement\n",
    "Run the cells below to check that each dish axis moves ~5 degrees and back"
   ]
  },
  {
   "cell_type": "code",
   "execution_count": 8,
   "id": "46479a1c-3bcd-49a3-81f8-5e048c54b185",
   "metadata": {},
   "outputs": [],
   "source": [
    "odrv0.axis0.controller.input_pos = 5"
   ]
  },
  {
   "cell_type": "code",
   "execution_count": 9,
   "id": "7e5dca28-c2d8-4f0b-af7f-b365df4688b5",
   "metadata": {},
   "outputs": [
    {
     "data": {
      "text/plain": [
       "4.84821891784668"
      ]
     },
     "execution_count": 9,
     "metadata": {},
     "output_type": "execute_result"
    }
   ],
   "source": [
    "odrv0.axis0.encoder.pos_estimate"
   ]
  },
  {
   "cell_type": "code",
   "execution_count": 10,
   "id": "6c726d4c-fcd2-4455-8ebb-c2c13cef9b87",
   "metadata": {},
   "outputs": [],
   "source": [
    "odrv0.axis0.controller.input_pos = 0"
   ]
  },
  {
   "cell_type": "code",
   "execution_count": 11,
   "id": "b9f9696f-1822-4b5c-abf2-625083bcc0e9",
   "metadata": {},
   "outputs": [
    {
     "data": {
      "text/plain": [
       "-0.08560752868652344"
      ]
     },
     "execution_count": 11,
     "metadata": {},
     "output_type": "execute_result"
    }
   ],
   "source": [
    "odrv0.axis0.encoder.pos_estimate"
   ]
  },
  {
   "cell_type": "code",
   "execution_count": 15,
   "id": "45b0d47a-7773-411e-9d30-01dfe81eed8b",
   "metadata": {},
   "outputs": [],
   "source": [
    "odrv0.axis1.controller.input_pos = 5"
   ]
  },
  {
   "cell_type": "code",
   "execution_count": 17,
   "id": "b9d735db-792b-432c-b0ae-7b4f2a01eadf",
   "metadata": {},
   "outputs": [
    {
     "data": {
      "text/plain": [
       "5.019256591796875"
      ]
     },
     "execution_count": 17,
     "metadata": {},
     "output_type": "execute_result"
    }
   ],
   "source": [
    "odrv0.axis1.encoder.pos_estimate"
   ]
  },
  {
   "cell_type": "code",
   "execution_count": 18,
   "id": "350e6b88-ea03-409f-9c88-1b96e53b10c9",
   "metadata": {},
   "outputs": [],
   "source": [
    "odrv0.axis1.controller.input_pos = 0"
   ]
  },
  {
   "cell_type": "code",
   "execution_count": 19,
   "id": "ca3f2a91-5eb2-4da2-8cfb-7c11c580914b",
   "metadata": {},
   "outputs": [
    {
     "data": {
      "text/plain": [
       "-0.4161682724952698"
      ]
     },
     "execution_count": 19,
     "metadata": {},
     "output_type": "execute_result"
    }
   ],
   "source": [
    "odrv0.axis1.encoder.pos_estimate"
   ]
  },
  {
   "cell_type": "markdown",
   "id": "e613ec50-6c8b-45a6-b0de-cf9039fb5ca7",
   "metadata": {},
   "source": [
    "# Start Tracking"
   ]
  },
  {
   "cell_type": "code",
   "execution_count": 127,
   "id": "0724f310-a639-4a09-8bdd-55f8a9c192f5",
   "metadata": {},
   "outputs": [
    {
     "data": {
      "application/vnd.jupyter.widget-view+json": {
       "model_id": "705d2c9daa3e4131b0d227ce2f344cd2",
       "version_major": 2,
       "version_minor": 0
      },
      "text/plain": [
       "Label(value='')"
      ]
     },
     "metadata": {},
     "output_type": "display_data"
    },
    {
     "name": "stdout",
     "output_type": "stream",
     "text": [
      "ERROR! Session/line number was not unique in database. History logging moved to new session 169"
     ]
    }
   ],
   "source": [
    "el_label = Label()\n",
    "display(el_label)"
   ]
  },
  {
   "cell_type": "code",
   "execution_count": 128,
   "id": "5057eff7-01a7-4429-a484-53c71d2766be",
   "metadata": {},
   "outputs": [
    {
     "name": "stdout",
     "output_type": "stream",
     "text": [
      "\n"
     ]
    }
   ],
   "source": [
    "dish = ephem.Observer()\n",
    "dish.lon = '-105.251825'\n",
    "dish.lat = '40.010886'\n",
    "dish.elevation = 1605 # Meters\n",
    "\n",
    "sat = ephem.readtle('CIRBE',\n",
    "    '1 56188U 23054L   23289.65931123  .00032081  00000-0  11665-2 0  9991',\n",
    "    '2 56188  97.3883 183.2111 0007421 337.0021  23.0886 15.28169498 28690'\n",
    ")\n",
    "\n",
    "pass_start_elevation = 8\n",
    "\n",
    "def get_current_time():\n",
    "    return datetime.utcnow()\n",
    "\n",
    "dish.date = get_current_time()\n",
    "sat.compute(dish)\n",
    "\n",
    "el_label.value = f'{np.degrees(sat.alt):3.2f} EL {np.degrees(sat.az):3.2f} AZ F'\n",
    "\n",
    "# Wait for satellite to come above horizon\n",
    "while sat.alt < np.radians(pass_start_elevation):\n",
    "\n",
    "    time.sleep(1)\n",
    "    dish.date = get_current_time()\n",
    "    sat.compute(dish)\n",
    "\n",
    "    el_label.value = f'{np.degrees(sat.alt):3.2f} EL {np.degrees(sat.az):3.2f} AZ W'\n",
    "\n",
    "times = []\n",
    "az_tgt = []\n",
    "el_tgt = []\n",
    "az_meas = []\n",
    "el_meas = []\n",
    "\n",
    "# Track satellite and record data\n",
    "while sat.alt >= np.radians(pass_start_elevation):\n",
    "\n",
    "    current_time = get_current_time()\n",
    "    dish.date = current_time\n",
    "    sat.compute(dish)\n",
    "\n",
    "    sat_az = sat.az + np.radians(15.4)\n",
    "    sat_el = sat.alt\n",
    "\n",
    "    el_label.value = f'{np.degrees(sat_el):3.2f} EL {np.degrees(sat_az):3.2f} AZ R'\n",
    "\n",
    "    # Handle crossing 360\n",
    "    if len(az_tgt) == 0:\n",
    "        az_last = np.degrees(sat_az)\n",
    "    else:\n",
    "        az_last = az_tgt[-1]\n",
    "    az_next = np.degrees(sat_az)\n",
    "    az_diff = az_next - az_last\n",
    "    az_diff = (((az_diff + 180) % 360 ) - 180)\n",
    "\n",
    "    az_tgt.append(az_last + az_diff)\n",
    "    el_tgt.append(np.degrees(sat_el))\n",
    "\n",
    "    # TODO offset correction\n",
    "    \n",
    "    a0_tgt = (az_tgt[-1] - 180) * (3199 / 3600)\n",
    "    a1_tgt = (90 - el_tgt[-1]) * (3199 / 3600)\n",
    "\n",
    "    odrv0.axis0.controller.input_pos = a0_tgt\n",
    "    odrv0.axis1.controller.input_pos = a1_tgt\n",
    "\n",
    "    a0_pos = odrv0.axis0.encoder.pos_estimate\n",
    "    a1_pos = odrv0.axis1.encoder.pos_estimate\n",
    "\n",
    "    az_meas.append( (a0_pos /  (3199 / 3600) ) + 180 )\n",
    "    el_meas.append( 90 - (a1_pos / (3199 / 3600) ) )\n",
    "    \n",
    "    times.append(current_time)"
   ]
  },
  {
   "cell_type": "markdown",
   "id": "4aac5470-f871-4312-98ce-ae045a509fdc",
   "metadata": {},
   "source": [
    "# Park Dish"
   ]
  },
  {
   "cell_type": "code",
   "execution_count": 136,
   "id": "67fcf503-2709-400a-bca4-77fec84dea1a",
   "metadata": {},
   "outputs": [],
   "source": [
    "odrv0.axis0.controller.input_pos = 0\n",
    "odrv0.axis1.controller.input_pos = 0"
   ]
  }
 ],
 "metadata": {
  "kernelspec": {
   "display_name": "Python 3 (ipykernel)",
   "language": "python",
   "name": "python3"
  },
  "language_info": {
   "codemirror_mode": {
    "name": "ipython",
    "version": 3
   },
   "file_extension": ".py",
   "mimetype": "text/x-python",
   "name": "python",
   "nbconvert_exporter": "python",
   "pygments_lexer": "ipython3",
   "version": "3.10.11"
  }
 },
 "nbformat": 4,
 "nbformat_minor": 5
}
